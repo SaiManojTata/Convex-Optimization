{
  "nbformat": 4,
  "nbformat_minor": 0,
  "metadata": {
    "colab": {
      "name": "Tutorial_12",
      "provenance": [],
      "collapsed_sections": []
    },
    "kernelspec": {
      "name": "python3",
      "display_name": "Python 3"
    },
    "language_info": {
      "name": "python"
    }
  },
  "cells": [
    {
      "cell_type": "code",
      "execution_count": null,
      "metadata": {
        "id": "-4ipKBmsNq-R"
      },
      "outputs": [],
      "source": [
        "import cvxpy as cvpy\n",
        "import numpy as npy"
      ]
    },
    {
      "cell_type": "code",
      "source": [
        "A = npy.random.seed(10)\n",
        "(m, n) = (30, 10)\n",
        "A = npy.random.rand(m, n)\n",
        "A = npy.asmatrix(A)\n",
        "\n",
        "b = npy.random.rand(m, 1)\n",
        "b = npy.asmatrix(b)\n",
        "\n",
        "c_nom = npy.ones((n, 1)) + npy.random.rand(n, 1)\n",
        "c_nom = npy.asmatrix(c_nom)"
      ],
      "metadata": {
        "id": "FnmKU1uT_le5"
      },
      "execution_count": null,
      "outputs": []
    },
    {
      "cell_type": "code",
      "source": [
        "temp = list()\n",
        "\n",
        "for i in range(n):\n",
        "  temp.append((npy.identity(n)[i]).tolist())\n",
        "\n",
        "for i in range(n):\n",
        "  temp.append((-npy.identity(n)[i]).tolist())\n",
        "\n",
        "temp.append((npy.ones((1, n))/n).tolist()[0])\n",
        "\n",
        "temp.append((-npy.ones((1, n))/n).tolist()[0])\n",
        "\n",
        "F = npy.asarray(temp)"
      ],
      "metadata": {
        "id": "x8C9sOlvAsnw"
      },
      "execution_count": null,
      "outputs": []
    },
    {
      "cell_type": "code",
      "source": [
        "g = list()\n",
        "\n",
        "for j in range(n):\n",
        "  g.append(((1.25*c_nom).tolist())[j])\n",
        "\n",
        "for j in range(n):\n",
        "  g.append(((-0.75*c_nom).tolist())[j])\n",
        "\n",
        "g.append([(1.1 * npy.sum((c_nom)/n))])\n",
        "\n",
        "g.append([(-0.9 * npy.sum((c_nom)/n))])\n",
        "\n",
        "g = npy.asarray(g)"
      ],
      "metadata": {
        "id": "C76van4lvXlh"
      },
      "execution_count": null,
      "outputs": []
    },
    {
      "cell_type": "code",
      "source": [
        "x = cvpy.Variable((n, 1))\n",
        "dual_lambda = cvpy.Variable((g.size, 1))\n",
        "\n",
        "objective = cvpy.Minimize(dual_lambda.T @ g)\n",
        "\n",
        "constraints = [A @ x >= b, dual_lambda >= 0]\n",
        "constraints += [F.T @ dual_lambda == x]\n",
        "\n",
        "problem = cvpy.Problem(objective, constraints)\n",
        "problem.solve()\n",
        "\n",
        "print(\"Nominal cost is \", c_nom.T * x.value)\n",
        "\n",
        "c = cvpy.Variable((n, 1))\n",
        "obj = cvpy.Maximize(c.T * x.value)\n",
        "constraint = [F * c <= g]\n",
        "prob = cvpy.Problem(obj, constraint)\n",
        "result = prob.solve()\n",
        "print(\"Worst case cost : \", result)\n"
      ],
      "metadata": {
        "colab": {
          "base_uri": "https://localhost:8080/"
        },
        "id": "Xs9T_4TTZKOE",
        "outputId": "98443277-b835-4372-a5b5-b619e9908def"
      },
      "execution_count": 120,
      "outputs": [
        {
          "output_type": "stream",
          "name": "stdout",
          "text": [
            "Nominal cost is  [[2.52320886]]\n",
            "Worst case cost :  3.1659610512330243\n"
          ]
        }
      ]
    },
    {
      "cell_type": "code",
      "source": [
        "y = cvpy.Variable((n, 1))\n",
        "\n",
        "objective_two = cvpy.Minimize(c_nom.T * y)\n",
        "constraints_two = [A*y >= b]\n",
        "\n",
        "problem_two = cvpy.Problem(objective_two, constraints_two)\n",
        "problem_two.solve()\n",
        "\n",
        "print(\"Nominal cost is \", objective_two.value)\n",
        "\n",
        "obj_two = cvpy.Maximize(c.T * y.value)\n",
        "constraint_two = [F * c <= g]\n",
        "prob_two = cvpy.Problem(obj_two, constraint_two)\n",
        "result_two = prob_two.solve()\n",
        "print(\"Worst case cost : \", result_two)"
      ],
      "metadata": {
        "colab": {
          "base_uri": "https://localhost:8080/"
        },
        "id": "zrbl09OaU73g",
        "outputId": "7f69414a-0b47-493d-c6e4-ec29affd129d"
      },
      "execution_count": 121,
      "outputs": [
        {
          "output_type": "stream",
          "name": "stdout",
          "text": [
            "Nominal cost is  2.1092714620826003\n",
            "Worst case cost :  7.2215622012361225\n"
          ]
        }
      ]
    }
  ]
}