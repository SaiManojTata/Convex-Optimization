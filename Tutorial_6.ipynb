{
  "nbformat": 4,
  "nbformat_minor": 0,
  "metadata": {
    "colab": {
      "name": "Tutorial_6.ipynb",
      "provenance": []
    },
    "kernelspec": {
      "name": "python3",
      "display_name": "Python 3"
    },
    "language_info": {
      "name": "python"
    }
  },
  "cells": [
    {
      "cell_type": "markdown",
      "source": [
        "##Tutorial - 6\n",
        "\n",
        "Maximum number of covers that can be produced in a day for each product \n",
        "\n",
        "* iPod - 6000\n",
        "* iPhone - 5000\n",
        "* iPad - 3000\n",
        "\n",
        "Space occupied by 1000 covers of each product \n",
        "\n",
        "* iPod - 40 cubic feet\n",
        "* iPhone - 45 cubic feet\n",
        "* iPad - 210 cubic feet \n",
        "\n",
        "They have to deliver at least the following number of covers\n",
        "\n",
        "* iPod - 5000\n",
        "* iPhone - 0\n",
        "* iPad - 4000\n",
        "\n",
        "Weekly demand does not exceed \n",
        "\n",
        "* iPod - 10000\n",
        "* iPhone - 15000\n",
        "* iPad - 8000\n",
        "\n",
        "Profits obtained for selling 1 unit of cover are \n",
        "\n",
        "* iPod - 4\n",
        "* iPhone - 6\n",
        "* iPad - 10"
      ],
      "metadata": {
        "id": "NZfdcg8WROwn"
      }
    },
    {
      "cell_type": "code",
      "source": [
        "import cvxpy as cvpy\n",
        "import numpy as npy\n",
        "\n",
        "# number of cover types available (iPod, iPhone, iPad)\n",
        "n = 3 \n",
        "working_days = 5\n",
        "working_hrs = 8\n",
        "storage_space = 6000\n",
        "\n",
        "#given data\n",
        "\n",
        "max_prod = [6000, 5000, 3000]\n",
        "prod_space = [40, 45, 210]\n",
        "\n",
        "min_demand = [5000, 0, 4000]\n",
        "max_demand = [10000, 15000, 8000]\n",
        "\n",
        "profit_prod = [4, 6, 10]"
      ],
      "metadata": {
        "id": "ldKkjIz5XAAY"
      },
      "execution_count": 2,
      "outputs": []
    },
    {
      "cell_type": "code",
      "source": [
        "# the proportion of time spent each day per product\n",
        "time_proportion = cvpy.Variable(3)\n",
        "\n",
        "# total covers of each type produced in one day \n",
        "total_covers = (cvpy.multiply(max_prod, time_proportion))\n",
        "\n",
        "# total space occupied by the covers\n",
        "total_space = 0.001 * (cvpy.multiply(prod_space, total_covers))\n",
        "\n",
        "# profit obtained per day, per product type\n",
        "# adding all of the members of this list will give us the total profit in a day\n",
        "profit = cvpy.multiply(total_covers, profit_prod)\n",
        "\n",
        "objective = cvpy.Maximize(cvpy.sum(profit))\n",
        "\n",
        "constraints = [time_proportion >= 0, cvpy.sum(time_proportion) == 1]\n",
        "constraints += [cvpy.sum(total_space) <= storage_space, working_days * total_covers >= min_demand, working_days * total_covers <= max_demand]\n",
        "\n",
        "problem = cvpy.Problem(objective, constraints)\n",
        "result = problem.solve()\n",
        "\n",
        "print(\"The maximum profit acquired in a week is : $\", (working_days * (result)))\n",
        "print(\"The time proportion values ([x1, x2, x3]) are : \", (time_proportion.value))\n",
        "print(\"The number of covers of each type sold in a week ([y1, y2, y3]) will be : \", ((working_days * (total_covers.value))))\n",
        "print(\"The number of hours devoted to each product in a week ([z1, z2, z3]) : \", 40 * (time_proportion.value))"
      ],
      "metadata": {
        "colab": {
          "base_uri": "https://localhost:8080/"
        },
        "id": "ipE4d-ylrdso",
        "outputId": "a2606f98-5d50-4300-94a0-9ccbc7059aa5"
      },
      "execution_count": 7,
      "outputs": [
        {
          "output_type": "stream",
          "name": "stdout",
          "text": [
            "The maximum profit acquired in a week is : $ 145000.00001987768\n",
            "The time proportion values ([x1, x2, x3]) are :  [0.16666667 0.30611591 0.52721743]\n",
            "The number of covers of each type sold in a week ([y1, y2, y3]) will be :  [4999.99998077 7652.89771129 7908.26138291]\n",
            "The number of hours devoted to each product in a week ([z1, z2, z3]) :  [ 6.66666664 12.24463634 21.08869702]\n"
          ]
        }
      ]
    }
  ]
}