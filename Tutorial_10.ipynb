{
  "cells": [
    {
      "cell_type": "markdown",
      "metadata": {
        "id": "kyH6qQHDdIhD"
      },
      "source": [
        "### Formulating the Convex Optimization Problem \n",
        "\n",
        "The given problem is a convex / quasiconvex feasibility problem. We have to check the feasibility of the problem for every value of $k$ until we find the optimal value $k^{*}$. \n",
        "\n",
        "The problem can be formulated as follows : - \n",
        "\n",
        "minimize $0$ `(because there is no objective, we just determine feasibility)`\n",
        "\n",
        "subject to \n",
        "\n",
        "$\\hspace{10mm}$ $0 <= T < T_{max}$\n",
        "          \n",
        "$\\hspace{10mm}$ $v_{i+1} = v_{i} + (h/m).F[i]$\n",
        "\n",
        "$\\hspace{10mm}$ $p_{i+1} = p_{i} + h.v_{i}$\n",
        "\n",
        "$\\hspace{10mm}$ $p_{1} = p_{init}, \\hspace{3mm} p_{k} = p_{des}$\n",
        "\n",
        "$\\hspace{10mm}$ $v_{1} = v_{k} = (0, 0)$\n",
        "\n",
        "\n",
        "     "
      ]
    },
    {
      "cell_type": "markdown",
      "metadata": {
        "id": "Gj-pSS34kzuz"
      },
      "source": [
        "### Imports "
      ]
    },
    {
      "cell_type": "code",
      "execution_count": null,
      "metadata": {
        "colab": {
          "background_save": true
        },
        "id": "cy_1Vyegd0qo"
      },
      "outputs": [],
      "source": [
        "import cvxpy as cvpy\n",
        "import numpy as npy \n",
        "import math"
      ]
    },
    {
      "cell_type": "markdown",
      "metadata": {
        "id": "mjTFcD2hk56_"
      },
      "source": [
        "### Given Data "
      ]
    },
    {
      "cell_type": "code",
      "execution_count": null,
      "metadata": {
        "colab": {
          "background_save": true
        },
        "id": "vu-0wqHTk8Uj"
      },
      "outputs": [],
      "source": [
        "m = 0.1\n",
        "theta_deg = 15\n",
        "theta_rad = (theta_deg/180)*(npy.pi)\n",
        "T_max = 2\n",
        "p_init = [0, 0]\n",
        "p_des = [10, 2]\n",
        "h = 0.1     "
      ]
    },
    {
      "cell_type": "markdown",
      "metadata": {
        "id": "7j86278Pp37S"
      },
      "source": [
        "### Solving quasiconvex optimization problem "
      ]
    },
    {
      "cell_type": "code",
      "execution_count": null,
      "metadata": {
        "colab": {
          "background_save": true,
          "base_uri": "https://localhost:8080/"
        },
        "id": "aRmOI5c-p9GQ",
        "outputId": "e415812d-6b51-4874-d78f-739f28f426ff"
      },
      "outputs": [
        {
          "name": "stdout",
          "output_type": "stream",
          "text": [
            "The minimum time K* :  3.4  seconds\n"
          ]
        }
      ],
      "source": [
        "matrix_rot = npy.matrix([[-npy.sin(theta_rad) ,  npy.sin(theta_rad)], [npy.cos(theta_rad), npy.cos(theta_rad)]])\n",
        "\n",
        "L_limit = 20\n",
        "U_limit = 60\n",
        "\n",
        "while(U_limit - L_limit > 1):\n",
        "\n",
        "  k = int(npy.floor((U_limit + L_limit)/2))\n",
        "\n",
        "  T = cvpy.Variable((2, k-1))\n",
        "\n",
        "  g = npy.zeros((2, k - 1))\n",
        "\n",
        "  for j in range(k-1):\n",
        "    g[1][j] = -9.8\n",
        "\n",
        "  F = matrix_rot * T + m*(g)\n",
        "\n",
        "  p = cvpy.Variable((k, 2))\n",
        "  x = p.T\n",
        "  v = cvpy.Variable((k, 2))\n",
        "\n",
        "  constraints = [0 <= T, T <= T_max]\n",
        "  constraints += [p[0] == p_init, p[k-1] == p_des]\n",
        "  constraints += [v[0] == [0, 0], v[k-1] == [0,0]]\n",
        "  \n",
        "  for i in range((k-1)):\n",
        "    constraints += [v[i+1] == v[i] + ((h/m)*F.T[i])]\n",
        "    constraints += [p[i+1] == p[i] + h*v[i]]\n",
        "\n",
        "  objective = cvpy.Minimize(0)\n",
        "  problem = cvpy.Problem(objective, constraints)\n",
        "  problem.solve(solver = 'ECOS')\n",
        "\n",
        "  if(problem.status == 'optimal'):\n",
        "    U_limit = k\n",
        "    temp_ans = k\n",
        "  else:\n",
        "    L_limit = k\n",
        "\n",
        "print(\"The minimum time K* : \", round((temp_ans) * h, 2), \" seconds\")"
      ]
    },
    {
      "cell_type": "markdown",
      "metadata": {
        "id": "gQlp8cug58aw"
      },
      "source": [
        "### Graphs "
      ]
    },
    {
      "cell_type": "code",
      "execution_count": null,
      "metadata": {
        "colab": {
          "background_save": true,
          "base_uri": "https://localhost:8080/",
          "height": 545
        },
        "id": "iqZtByoF58oB",
        "outputId": "94a489c2-c4d5-467a-f8e2-0155e9561c56"
      },
      "outputs": [
        {
          "data": {
            "image/png": "[encoded data removed]",
            "text/plain": [
              "<Figure size 432x288 with 1 Axes>"
            ]
          },
          "metadata": {},
          "output_type": "display_data"
        },
        {
          "data": {
            "image/png": "[encoded data removed]",
            "text/plain": [
              "<Figure size 432x288 with 1 Axes>"
            ]
          },
          "metadata": {},
          "output_type": "display_data"
        }
      ],
      "source": [
        "from matplotlib import pyplot as plt \n",
        "\n",
        "plt.plot(T[0].value, color = 'blue', alpha = 2, linewidth = '0.9', mfc='white')\n",
        "plt.plot(T[1].value, color = 'green', alpha = 2, linewidth = '0.9', mfc = 'white')\n",
        "plt.title(\"Scalar tensions in the ropes\")\n",
        "plt.show()\n",
        "\n",
        "plt.plot(x[1].value, color = 'black', alpha = 2, linewidth = '0.9', mfc='white')\n",
        "plt.title(\"Trajectory\")\n",
        "plt.show()"
      ]
    },
    {
      "cell_type": "markdown",
      "metadata": {
        "id": "KIxfs-UlrTHv"
      },
      "source": [
        "### Answer to Part - (b) \n",
        "\n",
        "The load does not move in an horizontal line, because the trajectory graph is not a straight line. \n",
        "\n",
        "This is because the left and right tensions are unequal (due to a factor of $-sin(\\theta)$). \n",
        "\n",
        "Therefore, it does not move in a line segment from $p^{init}$ to $p^{des}$. "
      ]
    }
  ],
  "metadata": {
    "colab": {
      "collapsed_sections": [],
      "name": "Tutorial_10.ipynb",
      "provenance": []
    },
    "kernelspec": {
      "display_name": "Python 3",
      "name": "python3"
    },
    "language_info": {
      "name": "python"
    }
  },
  "nbformat": 4,
  "nbformat_minor": 0
}