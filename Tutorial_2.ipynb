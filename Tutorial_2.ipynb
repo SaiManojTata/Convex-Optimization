{
  "nbformat": 4,
  "nbformat_minor": 0,
  "metadata": {
    "colab": {
      "name": "Tutorial_2.ipynb",
      "provenance": []
    },
    "kernelspec": {
      "name": "python3",
      "display_name": "Python 3"
    },
    "language_info": {
      "name": "python"
    }
  },
  "cells": [
    {
      "cell_type": "code",
      "execution_count": 3,
      "metadata": {
        "id": "aZgN0ACmr42J"
      },
      "outputs": [],
      "source": [
        "import numpy as npy\n",
        "import cvxpy as cvpy\n",
        "\n",
        "# Exchange rate data.\n",
        "tickers = [\"USD\", \"EUR\", \"GBP\", \"CAD\", \"JPY\", \"CNY\", \"RUB\", \"MXN\", \"INR\", \"BRL\"]\n",
        "n = len(tickers)\n",
        "F = npy.zeros((n, n))\n",
        "\n",
        "# USD\n",
        "data = ([1.0, 0.87, 0.76, 1.31, 108.90, 6.72, 65.45, 19.11, 71.13, 3.69],\n",
        "# EUR\n",
        "[1.0, 0.88, 1.51, 125.15, 7.72, 75.23, 21.96, 81.85, 4.24],\n",
        "# GBP\n",
        "[1.0, 1.72, 142.94, 8.82, 85.90, 25.08, 93.50, 4.84],\n",
        "# CAD\n",
        "[1.0, 82.93, 5.11, 49.82, 14.54, 54.23, 2.81],\n",
        "# JPY\n",
        "[1.0, 0.062, 0.60, 0.18, 0.65, 0.034],\n",
        "# CNY\n",
        "[1.0, 9.74, 2.85, 10.61, 0.55],\n",
        "# RUB\n",
        "[1.0, 0.29, 1.09, 0.056],\n",
        "# MXN\n",
        "[1.0, 3.73, 0.19],\n",
        "# INR\n",
        "[1.0, 0.052],\n",
        "# BRL\n",
        "[1.0])\n",
        "\n",
        "for i in range(n):\n",
        "    F[i,i:] = data[i]\n",
        "for j in range(n):\n",
        "    for i in range(j+1,n):\n",
        "        F[i,j] = 1.035/F[j,i]\n",
        "        \n",
        "# Initial and final portfolios\n",
        "c_req = npy.arange(1,n+1)\n",
        "c_req = 1e4*c_req/c_req.sum()\n",
        "c_init = c_req[::-1]"
      ]
    },
    {
      "cell_type": "code",
      "source": [
        "# Decision variable (Here, it is a n*n matrix)\n",
        "X = cvpy.Variable((n,n))\n",
        "\n",
        "#Expression for c_final is obtained as follows \n",
        "#In cvxpy, we have the transpose atomic function (expr.T)\n",
        "#From numpy, we have a matrix/list which is initialized to 1 for all elements\n",
        "\n",
        "c_final = (X/F)@npy.ones(n) - X.T@npy.ones(n) + c_init\n",
        "\n",
        "# calculating the final cost expression (penalty of the problem)\n",
        "temp = []\n",
        "\n",
        "for i in range(n):\n",
        "  temp.append(npy.sqrt(F[i,0]/F[0,i]))\n",
        "\n",
        "matrix = []\n",
        "\n",
        "while temp!=[]:\n",
        "  matrix.append(temp[:n])\n",
        "  temp = temp[n:]\n",
        "\n",
        "cost = (c_init - c_final)@matrix\n",
        "\n",
        "# objective of the problem  \n",
        "objective = cvpy.Minimize(cost)\n",
        "\n",
        "#constraints for our problem\n",
        "constraints = [c_final >= c_req, cvpy.diag(X) == 0, X.T@npy.ones(n) <= c_init]\n",
        "constraints += [X>=0]\n",
        "\n",
        "# formulating our convex optimization problem\n",
        "prob = cvpy.Problem(objective, constraints)\n",
        "\n",
        "result = prob.solve()\n",
        "\n",
        "print(\"The minimum cost is\", result, \"USD\")"
      ],
      "metadata": {
        "colab": {
          "base_uri": "https://localhost:8080/"
        },
        "id": "wAbMViHUx2xp",
        "outputId": "e54d9fd8-d826-4b1c-d6f7-3f8eca6e2ba4"
      },
      "execution_count": 4,
      "outputs": [
        {
          "output_type": "stream",
          "name": "stdout",
          "text": [
            "The minimum cost is 7.720059340057956 USD\n"
          ]
        }
      ]
    }
  ]
}