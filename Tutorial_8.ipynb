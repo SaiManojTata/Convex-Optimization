{
  "nbformat": 4,
  "nbformat_minor": 0,
  "metadata": {
    "colab": {
      "name": "Tutorial_8.ipynb",
      "provenance": [],
      "collapsed_sections": [
        "S2px-QYI69uD",
        "PUVnIAYu6Axt",
        "DFO7ZaOh8jP-",
        "33aFCSZYPUWt",
        "pVVHgvxDPGkQ"
      ]
    },
    "kernelspec": {
      "name": "python3",
      "display_name": "Python 3"
    },
    "language_info": {
      "name": "python"
    }
  },
  "cells": [
    {
      "cell_type": "markdown",
      "source": [
        "## Road Gradient Problem \n",
        "\n",
        "`h_i` &rarr; height of the roadbed at a distance `d_i`\n",
        "\n",
        "`e_i` &rarr; current elevation of the roadbed at a distance `d_i`\n",
        "\n",
        "Cuts &rarr; Roadbed existing <ins>below</ins> the elevation\n",
        "\n",
        "Fills &rarr; Roadbed existing <ins>above</ins> the elevation \n",
        "\n",
        "Both of these contribute to the cost of the construction and they are functions of $(u)_+$. \n",
        "\n",
        "Here, $(u)_+ = max(u, 0)$\n",
        "\n",
        "Cost function $C = \\phi^{cut}(u) + \\phi^{fill}(u)$ \n",
        "\n",
        "$\\phi^{cut}(u) = 12 (u)_+^{2} + (u)_+$\n",
        "\n",
        "$\\phi^{fill}(u) = 2(u)_+^{2} + 30(u)_+$\n"
      ],
      "metadata": {
        "id": "N475gv_zjb0_"
      }
    },
    {
      "cell_type": "markdown",
      "source": [
        "### Imports"
      ],
      "metadata": {
        "id": "S2px-QYI69uD"
      }
    },
    {
      "cell_type": "code",
      "source": [
        "import cvxpy as cvpy\n",
        "import numpy as npy \n",
        "from matplotlib import pyplot as plt"
      ],
      "metadata": {
        "id": "fx8cHtEM697D"
      },
      "execution_count": 11,
      "outputs": []
    },
    {
      "cell_type": "markdown",
      "source": [
        "### Given Data "
      ],
      "metadata": {
        "id": "PUVnIAYu6Axt"
      }
    },
    {
      "cell_type": "code",
      "source": [
        "# The road is 100 mts long\n",
        "n = 100 \n",
        "\n",
        "# elevation values \n",
        "e = []\n",
        "for i in range(1, n+1):\n",
        "  e.append(5 * npy.sin((i*(npy.pi)*3)/100) + npy.sin(i*10*(npy.pi)/100))\n",
        "\n",
        "# discretizing unit \n",
        "d = 1 \n",
        "\n",
        "# maximum derivative values (constraints)\n",
        "D1 = 0.080\n",
        "D2 = 0.025\n",
        "D3 = 0.005"
      ],
      "metadata": {
        "id": "aK65OUio6A7T"
      },
      "execution_count": 12,
      "outputs": []
    },
    {
      "cell_type": "markdown",
      "source": [
        "### Solving the convex optimization problem "
      ],
      "metadata": {
        "id": "DFO7ZaOh8jP-"
      }
    },
    {
      "cell_type": "code",
      "source": [
        "h = cvpy.Variable(n)\n",
        "\n",
        "u = h - e\n",
        "\n",
        "list_fillcost = 2 * cvpy.square(cvpy.pos(u)) + 30 * cvpy.pos(u)\n",
        "fill_cost = cvpy.sum(list_fillcost)\n",
        "\n",
        "list_cutcost = 12 * cvpy.square(cvpy.neg(u)) + cvpy.neg(u)\n",
        "cut_cost = cvpy.sum(list_cutcost)\n",
        "\n",
        "total_cost = fill_cost + cut_cost\n",
        "\n",
        "objective = cvpy.Minimize(total_cost)"
      ],
      "metadata": {
        "id": "APLMpcTH8jm8"
      },
      "execution_count": 13,
      "outputs": []
    },
    {
      "cell_type": "markdown",
      "source": [
        "### Formulating Constraints"
      ],
      "metadata": {
        "id": "uj2GzndDDPHp"
      }
    },
    {
      "cell_type": "markdown",
      "source": [
        "## Formulating Constraints \n",
        "\n",
        "The following calculations are valid because it is discretized. \n",
        "\n",
        "The first derivative can be calculated by the slope formula :\n",
        "\n",
        " $\\cfrac{h_{i+1} - h_i}{d}$, here $d$ is the discretizing unit\n",
        "\n",
        "The second derivative can be calculated by the change in slope between $h_{i-1}, h_{i}$ and $h_{i}, h_{i+1}$. \n",
        "\n",
        "Slope between $h_{i-1}$ and $h_{i}$ is $\\cfrac{h_{i} - h_{i-1}}{d}$\n",
        "\n",
        "Slope between $h_{i}$ and $h_{i+1}$ is $\\cfrac{h_{i+1} - h_{i}}{d}$\n",
        "\n",
        "Rate of change of slope = $\\cfrac{\\cfrac{h_{i+1} - h_{i}}{d} - \\cfrac{h_{i} - h_{i-1}}{d}}{d}$\n",
        "\n",
        "Second derivative = $\\cfrac{h_{i+1} + h_{i-1} - 2h_{i}}{d^2}$\n",
        "\n",
        "Similarly for the third derivative, we calculate the rate of change of curvature between $(h_{i-2}, h_{i-1}, h_{i})$ and $(h_{i-1}, h_{i}, h_{i+1})$\n",
        "\n",
        "Rate of change of curvature = $\\cfrac{\\cfrac{h_{i+1} + h_{i-1} - 2h_{i}}{d^2} - \\cfrac{h_{i} + h_{i-2} - 2h_{i-1}}{d^2}}{d}$\n",
        "\n",
        "Third derivative = $\\cfrac{h_{i+1} - 3h_{i} + 3h_{i-1} - h_{i-2}}{d^3}$\n",
        "\n",
        "\n",
        "## Formulating Convex Optimization Problem \n",
        "\n",
        "Minimize $C$ subject to :  \n",
        "\n",
        "  |Slope| <= $D^{(1)}$\n",
        "\n",
        "  |Curvature| <= $D^{(2)}$\n",
        "  \n",
        "  |Third Derivative| <= $D^{(3)}$"
      ],
      "metadata": {
        "id": "QxpNGrYxDxRS"
      }
    },
    {
      "cell_type": "code",
      "source": [
        "constraints = []\n",
        "\n",
        "constraints = [cvpy.abs(cvpy.diff(h)) <= D1*d, cvpy.abs(cvpy.diff(h, 2)) <= D2*d*d, cvpy.abs(cvpy.diff(h, 3)) <= D3*d*d*d]\n",
        "\n",
        "problem = cvpy.Problem(objective, constraints)\n",
        "\n",
        "# OSQP solver fails, so we use the ECOS solver\n",
        "result = problem.solve(solver = cvpy.ECOS)\n",
        "\n",
        "print(\"The minimum overall construction cost is : \", result)\n",
        "print(\"The fill cost is : \", fill_cost.value)\n",
        "print(\"The cut cost is : \", cut_cost.value)"
      ],
      "metadata": {
        "colab": {
          "base_uri": "https://localhost:8080/"
        },
        "id": "jXod5o4wPzgo",
        "outputId": "69a64e14-92d9-4c16-b693-f614fd540b35"
      },
      "execution_count": 20,
      "outputs": [
        {
          "output_type": "stream",
          "name": "stdout",
          "text": [
            "The minimum overall construction cost is :  7562.815672259892\n",
            "The fill cost is :  5291.880036632339\n",
            "The cut cost is :  2270.9355353362907\n"
          ]
        }
      ]
    },
    {
      "cell_type": "markdown",
      "source": [
        "### Plot - (i) : Cost function vs $-u$ \n",
        "\n",
        "### Plot - (ii) : Fill function vs $u$"
      ],
      "metadata": {
        "id": "33aFCSZYPUWt"
      }
    },
    {
      "cell_type": "code",
      "source": [
        "plt.plot(u.value, list_fillcost.value, color = 'red', linewidth = '2', mfc = 'white')\n",
        "\n",
        "# npy.arange can be changed to (1 : 10 : 0.1) according to the question\n",
        "plt.xticks(npy.arange(-4, 8, 1))\n",
        "plt.yticks(npy.arange(-10, 300, 50))\n",
        "plt.title(\"Fill cost Vs u\")\n",
        "plt.show()\n",
        "\n",
        "plt.plot(-(u.value), list_cutcost.value, color = 'red', linewidth = '2', mfc = 'white')\n",
        "\n",
        "# npy.arange can be changed to (1 : 10 : 0.1) according to the question\n",
        "plt.xticks(npy.arange(-6, 6, 2))\n",
        "plt.yticks(npy.arange(-20, 160, 20))\n",
        "plt.title(\"Cut cost Vs -u\")"
      ],
      "metadata": {
        "colab": {
          "base_uri": "https://localhost:8080/",
          "height": 562
        },
        "id": "0OUi9mHDcKSc",
        "outputId": "301300f9-c293-4d57-d6dd-601094103341"
      },
      "execution_count": 24,
      "outputs": [
        {
          "output_type": "display_data",
          "data": {
            "image/png": "[encoded data removed]",
            "text/plain": [
              "<Figure size 432x288 with 1 Axes>"
            ]
          },
          "metadata": {
            "needs_background": "light"
          }
        },
        {
          "output_type": "execute_result",
          "data": {
            "text/plain": [
              "Text(0.5, 1.0, 'Cut cost Vs -u')"
            ]
          },
          "metadata": {},
          "execution_count": 24
        },
        {
          "output_type": "display_data",
          "data": {
            "image/png": "[encoded data removed]",
            "text/plain": [
              "<Figure size 432x288 with 1 Axes>"
            ]
          },
          "metadata": {
            "needs_background": "light"
          }
        }
      ]
    },
    {
      "cell_type": "markdown",
      "source": [
        "### From the above graphs, we can see that both graphs are convex because the curve lies below any line segment joining two points. "
      ],
      "metadata": {
        "id": "1ajscSD-NTDq"
      }
    },
    {
      "cell_type": "markdown",
      "source": [
        "### Plots of $h_i$, $e_i$, $h_i - e_i$"
      ],
      "metadata": {
        "id": "pVVHgvxDPGkQ"
      }
    },
    {
      "cell_type": "code",
      "source": [
        "plt.plot(h.value, color = 'blue', linewidth = '2', mfc = 'white')\n",
        "plt.title(\"Plot of h\")\n",
        "plt.show()\n",
        "\n",
        "plt.plot(e ,color = 'blue', linewidth = '2', mfc = 'white')\n",
        "plt.title(\"Plot of e\")\n",
        "plt.show()\n",
        "\n",
        "plt.plot(u.value, color = 'blue', linewidth = '2', mfc = 'white')\n",
        "plt.title(\"Plot of h - e\")\n",
        "plt.yticks(npy.arange(-5, 10, 1))\n",
        "plt.show()"
      ],
      "metadata": {
        "colab": {
          "base_uri": "https://localhost:8080/",
          "height": 809
        },
        "id": "hdvNOvCigRpa",
        "outputId": "180df87a-dd7d-443d-8634-be2a5762879e"
      },
      "execution_count": 17,
      "outputs": [
        {
          "output_type": "display_data",
          "data": {
            "image/png": "[encoded data removed]",
            "text/plain": [
              "<Figure size 432x288 with 1 Axes>"
            ]
          },
          "metadata": {
            "needs_background": "light"
          }
        },
        {
          "output_type": "display_data",
          "data": {
            "image/png": "[encoded data removed]",
            "text/plain": [
              "<Figure size 432x288 with 1 Axes>"
            ]
          },
          "metadata": {
            "needs_background": "light"
          }
        },
        {
          "output_type": "display_data",
          "data": {
            "image/png": "[encoded data removed]",
            "text/plain": [
              "<Figure size 432x288 with 1 Axes>"
            ]
          },
          "metadata": {
            "needs_background": "light"
          }
        }
      ]
    }
  ]
}