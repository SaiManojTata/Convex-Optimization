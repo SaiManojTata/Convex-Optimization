{
  "nbformat": 4,
  "nbformat_minor": 0,
  "metadata": {
    "colab": {
      "name": "Quiz_1_MA20BTECH11018.ipynb",
      "provenance": [],
      "collapsed_sections": []
    },
    "kernelspec": {
      "name": "python3",
      "display_name": "Python 3"
    },
    "language_info": {
      "name": "python"
    }
  },
  "cells": [
    {
      "cell_type": "code",
      "execution_count": 7,
      "metadata": {
        "id": "JeUPapQuQ70j"
      },
      "outputs": [],
      "source": [
        "import numpy as num_py\n",
        "import cvxpy as cvx_py\n",
        "\n",
        "# The given data from the table, being represented as 1 by 3 matrices\n",
        "# The data is ordered column-wise, and they represent corn, 2 % milk, and wheat bread respectively\n",
        "\n",
        "calories = num_py.matrix([72, 121, 65])\n",
        "vitamins = num_py.matrix([107,500,0])\n",
        "serving_cost = num_py.matrix([0.18,0.23,0.05])\n"
      ]
    },
    {
      "cell_type": "code",
      "source": [
        "# defining our variable \n",
        "# We also ensure that the number of servings is always an integer value\n",
        "\n",
        "s = cvx_py.Variable((3,1), integer = True)\n",
        "\n",
        "# Function to return the penalty (total cost) of the food \n",
        "def TotalCost(s):\n",
        "    return num_py.matmul(serving_cost, s)"
      ],
      "metadata": {
        "id": "x7znQFRvdSNz"
      },
      "execution_count": 8,
      "outputs": []
    },
    {
      "cell_type": "code",
      "source": [
        "# defining our objective function\n",
        "\n",
        "objective = cvx_py.Minimize(cvx_py.matmul(serving_cost, s))\n",
        "\n",
        "#constraints for our objective\n",
        "\n",
        "constraints = [s>=0, s<=10, cvx_py.matmul(calories, s) >= 2000, cvx_py.matmul(calories, s)<=2250, cvx_py.matmul(vitamins, s)>=5000, cvx_py.matmul(vitamins, s)<=50000]\n",
        "\n",
        "# formulating our convex optimization problem \n",
        "\n",
        "problem = cvx_py.Problem(objective, constraints)\n",
        "problem.solve()\n",
        "\n",
        "# final output\n",
        "\n",
        "print(\"Optimal Servings\", s.value)\n",
        "print(\"Optimal Penalty\", TotalCost(s.value))"
      ],
      "metadata": {
        "colab": {
          "base_uri": "https://localhost:8080/"
        },
        "id": "w0fPK2nLg0aM",
        "outputId": "93779359-1ee9-4da9-8d07-a013f98903a8"
      },
      "execution_count": 9,
      "outputs": [
        {
          "output_type": "stream",
          "name": "stdout",
          "text": [
            "Optimal Servings [[ 2.]\n",
            " [10.]\n",
            " [10.]]\n",
            "Optimal Penalty [[3.16]]\n"
          ]
        }
      ]
    }
  ]
}