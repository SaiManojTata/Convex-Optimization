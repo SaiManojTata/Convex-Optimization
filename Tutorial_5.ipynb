{
  "nbformat": 4,
  "nbformat_minor": 0,
  "metadata": {
    "colab": {
      "name": "Tutorial_5.ipynb",
      "provenance": [],
      "collapsed_sections": []
    },
    "kernelspec": {
      "name": "python3",
      "display_name": "Python 3"
    },
    "language_info": {
      "name": "python"
    }
  },
  "cells": [
    {
      "cell_type": "markdown",
      "source": [
        "## Variables in the given problem \n",
        "\n",
        "`n` -> Number of factories \n",
        "\n",
        "`s_i` -> Amount of goods produced by factory `i`\n",
        "\n",
        "`m` -> Number of destinations \n",
        "\n",
        "`d_i` -> Demand at destination `i`\n",
        "\n",
        "`c` -> `n * m` matrix in which an element `c[i][j]` represents the cost of moving a unit good from factory `i` to destination `j`"
      ],
      "metadata": {
        "id": "r6zK0gysJFJu"
      }
    },
    {
      "cell_type": "markdown",
      "source": [
        "## Formulating our LP problem \n",
        "\n",
        "The total cost of shipping the goods can be expressed as follows : \n",
        "\n",
        "* Number of goods being shipped from factory `i` to some destination `j` is given by the element of the CVX variable, i.e.,  `supplied_qty[i][j]`. \n",
        "\n",
        "* Cost of all the goods being shipped from factory `i` to that particular destination is given from the cost matrix `c[i][j] * supplied_qty[i][j]`. \n",
        "\n",
        "* The cost of shipping all the goods is given by the sum of `c[i][j] * supplied_qty[i][j]` over all values of `i, j`, where `i = 1, 2, .. n` and `j = 1, 2, ... m`. The onjective of the problem is to minimize this cost. \n",
        "\n",
        "The LP problem can also be expressed as \n",
        "\n",
        "minimize `c[i][j] * supplied_qty[i][j]`\n",
        "\n",
        "subject to\n",
        "* `supplied_qty @ npy.ones(m) <= supply_total`\n",
        "* `supplied_qty.T @ npy.ones(n) - demand >= 0`\n",
        "* `supplied_qty >= 0`"
      ],
      "metadata": {
        "id": "owm5MqonNf5b"
      }
    },
    {
      "cell_type": "markdown",
      "source": [
        "## Implementing the LP problem "
      ],
      "metadata": {
        "id": "uKgNZu87W_P9"
      }
    },
    {
      "cell_type": "code",
      "source": [
        "import cvxpy as cvpy\n",
        "import numpy as npy\n",
        "\n",
        "# initial data \n",
        "\n",
        "supply_total = [40, 50, 45]\n",
        "\n",
        "demand = [45, 20, 30, 30, 10]\n",
        "\n",
        "c = ([8, 6, 10, 9, 8], [9, 12, 13, 7, 5], [14, 9, 16, 5, 2])\n",
        "\n",
        "n = 3\n",
        "m = 5\n",
        "\n",
        "# CVXPY variable \n",
        "\n",
        "supplied_qty = cvpy.Variable((n, m))\n",
        "\n",
        "# Penalty of the problem \n",
        "\n",
        "temp_matrix = cvpy.multiply(supplied_qty, c)\n",
        "\n",
        "cost = cvpy.sum(temp_matrix)\n",
        "\n",
        "objective = cvpy.Minimize(cost)\n",
        "\n",
        "# Constraints for our problem \n",
        "\n",
        "constraints = [supplied_qty @ npy.ones(m) <= supply_total, supplied_qty.T @ npy.ones(n) >= demand]\n",
        "constraints += [supplied_qty >= 0]\n",
        "\n",
        "problem = cvpy.Problem(objective, constraints)\n",
        "result = problem.solve()\n",
        "\n",
        "print(\"Minimum cost of shipping goods : \",result)\n",
        "\n",
        "print(supplied_qty.value)   "
      ],
      "metadata": {
        "colab": {
          "base_uri": "https://localhost:8080/"
        },
        "id": "1syyHv85Ndw8",
        "outputId": "2e38b1c1-fe02-494c-b288-d9411290c94e"
      },
      "execution_count": 4,
      "outputs": [
        {
          "output_type": "stream",
          "name": "stdout",
          "text": [
            "Minimum cost of shipping goods :  1025.0000000955836\n",
            "[[7.77167223e-09 1.50000000e+01 2.50000000e+01 1.19073829e-09\n",
            "  3.61593415e-11]\n",
            " [4.50000000e+01 8.72313200e-09 4.99999999e+00 6.65874022e-09\n",
            "  3.28453016e-09]\n",
            " [3.32563615e-09 5.00000000e+00 9.35542298e-09 3.00000000e+01\n",
            "  1.00000000e+01]]\n"
          ]
        }
      ]
    }
  ]
}