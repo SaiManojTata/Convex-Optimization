{
  "nbformat": 4,
  "nbformat_minor": 0,
  "metadata": {
    "colab": {
      "name": "Tutorial_9.ipynb",
      "provenance": [],
      "collapsed_sections": []
    },
    "kernelspec": {
      "name": "python3",
      "display_name": "Python 3"
    },
    "language_info": {
      "name": "python"
    }
  },
  "cells": [
    {
      "cell_type": "markdown",
      "source": [
        "### Tutorial - 9 : Power Assignment in a wireless communication system\n",
        "\n"
      ],
      "metadata": {
        "id": "lKRixslnJUK3"
      }
    },
    {
      "cell_type": "markdown",
      "source": [
        "### Variables in our Linear Fractional Problem : -\n",
        "\n",
        "$p_i$ $\\rightarrow$ powers transmitting to $n$ receivers\n",
        "\n",
        "$G$ $→$ Path Gains matrix (matrix of dimension $n \\times n$)\n",
        "\n",
        "$G_{ij}$ $\\rightarrow$ Path gain from transmitter $j$ to receiver $i$\n",
        "\n",
        "$S_i$ $\\rightarrow$ Signal power at receiver $i$\n",
        "\n",
        "$I_i$ $\\rightarrow$ Interference power at receiver $i$, $I_i = ΣG_{ik}P_k$ (here, $i \\neq k$)\n",
        "\n",
        "SINR $=$ $\\cfrac{S_i}{I_i + σ_i}$ "
      ],
      "metadata": {
        "id": "OYZgwsGICOTi"
      }
    },
    {
      "cell_type": "markdown",
      "source": [
        "### Constraints in our Problem \n",
        "\n",
        "$p_i \\geq 0$\n",
        "\n",
        "$p_i \\leq P_{max}$ \n",
        "\n",
        "$\\Sigma_{k \\in K_l}$ ${p_k} \\leq P^{gp}_l$\n",
        "\n",
        "$\\Sigma$ $G_{ik} p_{k} \\leq P^{rc}_{i}, i = 1, 2,...., n$"
      ],
      "metadata": {
        "id": "XkgxFwghGKiJ"
      }
    },
    {
      "cell_type": "markdown",
      "source": [
        "## Imports "
      ],
      "metadata": {
        "id": "NKCOyYZpUhMv"
      }
    },
    {
      "cell_type": "code",
      "source": [
        "import numpy as npy \n",
        "import cvxpy as cvpy"
      ],
      "metadata": {
        "id": "ITyv97E1Ui-X"
      },
      "execution_count": null,
      "outputs": []
    },
    {
      "cell_type": "markdown",
      "source": [
        "## Given Data "
      ],
      "metadata": {
        "id": "V9Qi1m66UmF_"
      }
    },
    {
      "cell_type": "code",
      "source": [
        "# Number of transmitters \n",
        "n = 5\n",
        "\n",
        "# Path gains matrix \n",
        "G = npy.array([[1.0, 0.1, 0.2, 0.1, 0.0],\n",
        "     [0.1, 1.0, 0.1, 0.1, 0.0],\n",
        "     [0.2, 0.1, 2.0, 0.2, 0.2],\n",
        "     [0.1, 0.1, 0.2, 1.0, 0.1],\n",
        "     [0.0, 0.0, 0.2, 0.1, 1.0]])\n",
        "\n",
        "# maximum individual transmitter power \n",
        "P_max = 3\n",
        "\n",
        "# maximum individual receiving power \n",
        "P_received = 5\n",
        "\n",
        "# Maximum noise levels\n",
        "noise = 0.5\n",
        "\n",
        "# We take groups as boolean values (0 or 1), because groups are disjoint\n",
        "# If a transmitter is present in a particular group, it has a value of 1 \n",
        "groups = npy.array([[1, 1, 0, 0, 0], [0, 0, 1, 1, 1]])\n",
        "\n",
        "g_size = 2\n",
        "\n",
        "# maximum group power for each group\n",
        "max_grp_power = npy.array([4,6])"
      ],
      "metadata": {
        "id": "pnNTvVprMpqH"
      },
      "execution_count": null,
      "outputs": []
    },
    {
      "cell_type": "markdown",
      "source": [
        "### Solving the optimization problem "
      ],
      "metadata": {
        "id": "jjNhq1lrbt15"
      }
    },
    {
      "cell_type": "code",
      "source": [
        "p = cvpy.Variable(n)\n",
        "\n",
        "# leaving out the multiplication with p, added in constraints \n",
        "\n",
        "G_ii = npy.diag(G)\n",
        "\n",
        "S = cvpy.multiply((G_ii.T), p)\n",
        "I = G@p - S"
      ],
      "metadata": {
        "id": "X38j9hi5b19M"
      },
      "execution_count": null,
      "outputs": []
    },
    {
      "cell_type": "code",
      "source": [
        "# Bisection algorithm parameters \n",
        "\n",
        "alpha = cvpy.Parameter(1)\n",
        "\n",
        "L_limit = 0\n",
        "U_limit = int(1e4)"
      ],
      "metadata": {
        "id": "9CvfVUDgoRnH"
      },
      "execution_count": null,
      "outputs": []
    },
    {
      "cell_type": "code",
      "source": [
        "# precision of alpha\n",
        "precision = 0.05\n",
        "\n",
        "# objective and constraints \n",
        "objective = cvpy.Minimize(alpha)\n",
        "\n",
        "constraints = [p <= P_max, p >= 0, G @ p <= P_received]\n",
        "\n",
        "p_subset_sum = [0, 0]\n",
        "\n",
        "for i in range(g_size): \n",
        "  for j in range(n):\n",
        "    if(groups[i][j] != 0):\n",
        "      p_subset_sum[i] += p[j]\n",
        "\n",
        "  constraints += [p_subset_sum[i] <= max_grp_power[i]]\n",
        "\n",
        "constraints += [I + noise <= alpha*(S)]\n",
        "\n",
        "# Implementing the bisection algorithm\n",
        "\n",
        "while(U_limit - L_limit > precision):\n",
        "  alpha.value = npy.atleast_1d((L_limit + U_limit) / 2)\n",
        "\n",
        "  problem = cvpy.Problem(objective, constraints)\n",
        "  problem.solve()\n",
        "\n",
        "  # checking feasibility \n",
        "  if problem.status == 'optimal':\n",
        "    U_limit = alpha.value\n",
        "    temp_p = p.value\n",
        "  else:\n",
        "    L_limit = alpha.value\n",
        "\n",
        "print(\"Maximum SINR value is : \", 1/alpha.value)\n",
        "print(\"The values of powers are : \", temp_p)"
      ],
      "metadata": {
        "id": "43PC1L2V7Mtc",
        "colab": {
          "base_uri": "https://localhost:8080/"
        },
        "outputId": "b46dce61-51e2-43ba-c53c-5931183c9827"
      },
      "execution_count": null,
      "outputs": [
        {
          "output_type": "stream",
          "name": "stdout",
          "text": [
            "Maximum SINR value is :  [1.74762667]\n",
            "The values of powers are :  [2.05325577 1.85690341 1.5972308  2.3231306  1.85569467]\n"
          ]
        }
      ]
    }
  ]
}